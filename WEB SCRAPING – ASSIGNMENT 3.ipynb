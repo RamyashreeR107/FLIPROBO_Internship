{
 "cells": [
  {
   "cell_type": "markdown",
   "metadata": {},
   "source": [
    "<h1>WEB SCRAPING – ASSIGNMENT 3</h1>\n",
    "\n",
    "<img src=\"https://www.screenscraping.info/i/side2.jpg\">\n",
    "\n",
    "\n",
    "<img src=\"data:image/png;base64,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\">\n"
   ]
  },
  {
   "cell_type": "markdown",
   "metadata": {},
   "source": [
    "Importing libraries required"
   ]
  },
  {
   "cell_type": "code",
   "execution_count": 1,
   "metadata": {},
   "outputs": [],
   "source": [
    "import selenium\n",
    "import pandas as pd\n",
    "from selenium import webdriver\n",
    "import time"
   ]
  },
  {
   "cell_type": "markdown",
   "metadata": {},
   "source": [
    "Connecting web driver"
   ]
  },
  {
   "cell_type": "code",
   "execution_count": 2,
   "metadata": {},
   "outputs": [],
   "source": [
    "driver=webdriver.Chrome(r\"C:\\Users\\RamyashreeR\\chromedriver.exe\")"
   ]
  },
  {
   "cell_type": "markdown",
   "metadata": {},
   "source": [
    "<img src=\"data:image/png;base64,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\" width='150'>"
   ]
  },
  {
   "cell_type": "markdown",
   "metadata": {},
   "source": [
    ". Scrape the details of most viewed videos on YouTube from Wikipedia:\n",
    "Url = https://en.wikipedia.org/wiki/List_of_most-viewed_YouTube_videos/\n",
    "You need to find following details:\n",
    "   A) Rank\n",
    "   B) Name\n",
    "   C) Artist\n",
    "   D) Upload date\n",
    "   E) Views\n"
   ]
  },
  {
   "cell_type": "code",
   "execution_count": 3,
   "metadata": {},
   "outputs": [],
   "source": [
    "url=\"https://en.wikipedia.org/wiki/List_of_most-viewed_YouTube_videos\"\n",
    "driver.get(url)\n",
    "\n",
    "job_title=[]\n",
    "\n",
    "\n",
    "time.sleep(5)\n",
    "\n",
    "title=driver.find_elements_by_xpath(\"//table[@class='wikitable sortable jquery-tablesorter']\")\n",
    "for i in title:\n",
    "    x=i.text\n",
    "    job_title.append(x)\n",
    "    "
   ]
  },
  {
   "cell_type": "code",
   "execution_count": 4,
   "metadata": {},
   "outputs": [
    {
     "data": {
      "text/plain": [
       "['Top 30 most-viewed YouTube videos[26][27]\\nNo. Video name Uploader / artist Views (billions) Upload date Note\\n1. \"Baby Shark Dance\"[28] Pinkfong Kids\\' Songs & Stories 7.46 June 17, 2016 [B]\\n2. \"Despacito\"[30] Luis Fonsi featuring Daddy Yankee 7.11 January 12, 2017 [C]\\n3. \"Shape of You\"[31] Ed Sheeran 5.11 January 30, 2017 [D]\\n4. \"See You Again\"[32] Wiz Khalifa featuring Charlie Puth 4.87 April 6, 2015 [E]\\n5. \"Johny Johny Yes Papa\"[35] LooLoo Kids 4.41 October 8, 2016 [F]\\n6. \"Masha and the Bear – Recipe for Disaster\"[36] Get Movies 4.38 January 31, 2012 [G]\\n7. \"Uptown Funk\"[37] Mark Ronson featuring Bruno Mars 4.04 November 19, 2014 [H]\\n8. \"Gangnam Style\"[38] Psy 3.89 July 15, 2012 [I]\\n9. \"Learning Colors – Colorful Eggs on a Farm\"[40] Miroshka TV 3.66 February 27, 2018\\n10. \"Bath Song\"[41] Cocomelon – Nursery Rhymes 3.38 May 2, 2018\\n11. \"Sorry\"[42] Justin Bieber 3.37 October 22, 2015\\n12. \"Sugar\"[43] Maroon 5 3.35 January 14, 2015\\n13. \"Phonics Song with Two Words\"[44] ChuChu TV 3.33 March 6, 2014\\n14. \"Roar\"[45] Katy Perry 3.23 September 5, 2013\\n15. \"Thinking Out Loud\"[46] Ed Sheeran 3.14 October 7, 2014\\n16. \"Counting Stars\"[47] OneRepublic 3.14 May 31, 2013\\n17. \"Shake It Off\"[48] Taylor Swift 3.00 August 18, 2014\\n18. \"Dame Tu Cosita\"[49] El Chombo featuring Cutty Ranks 2.97 April 5, 2018\\n19. \"Bailando\"[50] Enrique Iglesias featuring Descemer Bueno and Gente De Zona 2.94 April 11, 2014\\n20. \"Lean On\"[51] Major Lazer and DJ Snake featuring MØ 2.94 March 22, 2015\\n21. \"Faded\"[52] Alan Walker 2.93 December 3, 2015\\n22. \"Dark Horse\"[53] Katy Perry featuring Juicy J 2.93 February 20, 2014\\n23. \"Girls Like You\"[54] Maroon 5 featuring Cardi B 2.91 May 31, 2018\\n24. \"Let Her Go\"[55] Passenger 2.86 July 25, 2012\\n25. \"Mi Gente\"[56] J Balvin and Willy William 2.83 June 29, 2017\\n26. \"Hello\"[57] Adele 2.76 October 22, 2015\\n27. \"Blank Space\"[58] Taylor Swift 2.69 November 10, 2014\\n28. \"Waka Waka (This Time for Africa)\"[59] Shakira featuring Freshlyground 2.67 June 4, 2010\\n29. \"Perfect\"[60] Ed Sheeran 2.66 November 9, 2017\\n30. \"Chantaje\"[61] Shakira featuring Maluma 2.61 November 18, 2016\\nAs of December 15, 2020',\n",
       " 'Progression of the most-viewed video on YouTube\\nVideo name Uploader Views* Upload date Date achieved Days held Ref Notes\\n\"Baby Shark Dance\"[28] Pinkfong! Kids\\' Songs & Stories 7,037,500,000 June 17, 2016 November 2, 2020 44\\n\"Despacito\"[30] Luis Fonsi 2,993,700,000 January 12, 2017 August 4, 2017 1186 [119] [L]\\n\"See You Again\"[32] Wiz Khalifa 2,894,000,000 April 6, 2015 July 10, 2017 25 [33]\\n\"Gangnam Style\"⁂[38] Psy 803,700,000 July 15, 2012 November 24, 2012 1,689 [39] [M]\\n\"Baby\"*[91] Justin Bieber 245,400,000 February 19, 2010 July 16, 2010 862 [120] [N]\\n\"Bad Romance\"[88] Lady Gaga 178,400,000 November 24, 2009 April 14, 2010 93 [123] [O]\\n\"Charlie Bit My Finger\"[79] HDCYT 128,900,000 May 22, 2007 October 25, 2009 171 [126]\\n\"Evolution of Dance\"[72] Judson Laipply 118,900,000 April 6, 2006 May 2, 2009 176 [127]\\n\"Girlfriend\"‡[128][129] RCA Records 92,600,000 February 27, 2007 July 17, 2008 289 [130]\\n\"Evolution of Dance\"[72] Judson Laipply 78,400,000 April 6, 2006 March 15, 2008 124 [131]\\n\"Music Is My Hot Hot Sex\"‡[132] CLARUSBARTEL72 76,600,000 April 9, 2007 March 1, 2008 14 [133] [P]\\n\"Evolution of Dance\"*[72] Judson Laipply 10,600,000 April 6, 2006 May 19, 2006 652 [136] [Q]\\n\"Pokemon Theme Music Video\"‡[137] Smosh 4,300,000 November 28, 2005 March 12, 2006 68 [138] [R]\\n\"Myspace – The Movie\"‡[141][142] eggtea 2,700,000 January 31, 2006 February 18, 2006 22 [143]\\n\"Phony Photo Booth\"‡[144] mugenized 3,400,000 December 1, 2005 January 21, 2006 28 [145] [S]\\n\"The Chronic of Narnia Rap\"‡[146] youtubedude 2,300,000 December 18, 2005 January 9, 2006 12 [147]\\n\"Ronaldinho: Touch of Gold\"‡*[148] Nikesoccer 255,000 October 21, 2005 October 31, 2005 70 [149] [T]\\n\"I/O Brush\"‡*[151] larfus 247,000 October 5, 2005 October 29, 2005 2 [152]\\n\"Me at the zoo\"[63] jawed 1 April 23, 2005 April 23, 2005 1 [153]\\nAs of December 16, 2020']"
      ]
     },
     "execution_count": 4,
     "metadata": {},
     "output_type": "execute_result"
    }
   ],
   "source": [
    "job_title"
   ]
  },
  {
   "cell_type": "markdown",
   "metadata": {},
   "source": [
    "<img src=\"data:image/png;base64,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\" width='150'>"
   ]
  },
  {
   "cell_type": "markdown",
   "metadata": {},
   "source": [
    "Scrape the details team India’s international fixtures from bcci.tv.\n",
    "Url = https://www.bcci.tv/.\n",
    "You need to find following details:\n",
    "A) Match title (I.e. 1\n",
    "st ODI)\n",
    "B) Series\n",
    "C) Place\n",
    "D) Date\n",
    "E) Time\n",
    "Note: - From bcci.tv home page you have reach to the international fixture page through code."
   ]
  },
  {
   "cell_type": "code",
   "execution_count": null,
   "metadata": {},
   "outputs": [],
   "source": []
  },
  {
   "cell_type": "markdown",
   "metadata": {},
   "source": [
    "<img src=\"data:image/png;base64,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\" width='150'>"
   ]
  },
  {
   "cell_type": "markdown",
   "metadata": {},
   "source": [
    "Scrape the details of selenium exception from guru99.com.\n",
    "Url = https://www.guru99.com/\n",
    "You need to find following details:\n",
    "A) Name\n",
    "B) Description\n",
    "Note: - From guru99 home page you have to reach to selenium exception handling page through code."
   ]
  },
  {
   "cell_type": "code",
   "execution_count": null,
   "metadata": {},
   "outputs": [],
   "source": []
  },
  {
   "cell_type": "markdown",
   "metadata": {},
   "source": [
    "<img src=\"data:image/png;base64,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\" width='150'>"
   ]
  },
  {
   "cell_type": "markdown",
   "metadata": {},
   "source": [
    "Scrape the details of State-wise GDP of India from statisticstime.com.\n",
    "Url = http://statisticstimes.com/\n",
    "You have to find following details:\n",
    "A) Rank\n",
    "B) State\n",
    "C) GSDP(18-19)\n",
    "D) GSDP(17-18)\n",
    "E) Share(2017)\n",
    "F) GDP($ billion)\n",
    "Note: - From statisticstimes home page you have to reach to economy page through code."
   ]
  },
  {
   "cell_type": "code",
   "execution_count": null,
   "metadata": {},
   "outputs": [],
   "source": []
  },
  {
   "cell_type": "markdown",
   "metadata": {},
   "source": [
    "<img src=\"data:image/jpeg;base64,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\" width='250'>"
   ]
  },
  {
   "cell_type": "markdown",
   "metadata": {},
   "source": [
    "Scrape the details of trending repositories on Github.com.\n",
    "Url = https://github.com/\n",
    "You have to find the following details:\n",
    "A) Repository title\n",
    "B) Repository description\n",
    "C) Contributors count\n",
    "D) Language used\n",
    "Note: - From the home page you have to click on the trending option from Explore menu through code."
   ]
  },
  {
   "cell_type": "code",
   "execution_count": null,
   "metadata": {},
   "outputs": [],
   "source": []
  },
  {
   "cell_type": "markdown",
   "metadata": {},
   "source": [
    "<img src=\"data:image/jpeg;base64,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\" width='150'>"
   ]
  },
  {
   "cell_type": "markdown",
   "metadata": {},
   "source": [
    "Scrape the details of top 100 songs on billiboard.com.\n",
    "Url = https://www.billiboard.com/\n",
    "You have to find the following details:\n",
    "A) Song name\n",
    "B) Artist name\n",
    "C) Last week rank\n",
    "D) Peak rank\n",
    "E) Weeks on board\n",
    "Note: - From the home page you have to click on the charts option then hot 100-page link through code."
   ]
  },
  {
   "cell_type": "code",
   "execution_count": null,
   "metadata": {},
   "outputs": [],
   "source": []
  },
  {
   "cell_type": "markdown",
   "metadata": {},
   "source": [
    "<img src=\"data:image/png;base64,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\" width='150'>"
   ]
  },
  {
   "cell_type": "markdown",
   "metadata": {},
   "source": [
    "Scrape the details of Data science recruiters from naukri.com.\n",
    "Url = https://www.naukri.com/\n",
    "You have to find the following details:\n",
    "A) Name\n",
    "B) Designation\n",
    "C) Company\n",
    "D) Skills they hire for\n",
    "E) Location\n",
    "Note: - From naukri.com homepage click on the recruiters option and the on the search pane type Data science and\n",
    "click on search. All this should be done through code\n"
   ]
  },
  {
   "cell_type": "code",
   "execution_count": null,
   "metadata": {},
   "outputs": [],
   "source": []
  },
  {
   "cell_type": "markdown",
   "metadata": {},
   "source": [
    "<img src=\"data:image/png;base64,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\" width='150'>"
   ]
  },
  {
   "cell_type": "markdown",
   "metadata": {},
   "source": [
    ". Scrape the details of Highest selling novels.\n",
    "Url = https://www.theguardian.com/news/datablog/2012/aug/09/best-selling-books-all-time-fifty-shades-greycompare/\n",
    "You have to find the following details:\n",
    "A) Book name\n",
    "B) Author name\n",
    "C) Volumes sold\n",
    "D) Publisher\n",
    "E) Genre\n"
   ]
  },
  {
   "cell_type": "code",
   "execution_count": null,
   "metadata": {},
   "outputs": [],
   "source": []
  },
  {
   "cell_type": "markdown",
   "metadata": {},
   "source": [
    "<img src=\"data:image/png;base64,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\" width='150'>"
   ]
  },
  {
   "cell_type": "markdown",
   "metadata": {},
   "source": [
    ". Scrape the details most watched tv series of all time from imdb.com.\n",
    "Url = https://www.imdb.com/list/ls095964455/\n",
    "You have to find the following details:\n",
    "A) Name\n",
    "B) Year span\n",
    "C) Genre\n",
    "D) Run time\n",
    "E) Ratings\n",
    "F) Votes\n"
   ]
  },
  {
   "cell_type": "code",
   "execution_count": null,
   "metadata": {},
   "outputs": [],
   "source": []
  },
  {
   "cell_type": "markdown",
   "metadata": {},
   "source": [
    "<img src=\"data:image/png;base64,iVBORw0KGgoAAAANSUhEUgAAAQMAAADCCAMAAAB6zFdcAAAA/1BMVEUAAAD///8SSawSa/cAAQART7URaPIEAADa2toAAwD29vZgYGDe3t4TExO3t7cAAAWrq6v4+PhWVlaSkpLu7u5MTEwIbP89PT3U1NS0tLShoaHOzs7p6ekwMDCurq7k5OSMjIwiIiI+Pj7FxcWampp0dHR9fX0tLS1eXl6Hh4cdHR02NjZPT08XFxdqamoGTsEZQ4wUTaQaSpsADBkRZv8FHk8LFzgMOYsAdPkOMG0DLGIEBSIMP6EMH0QAABMQW9cSUc4OXeoFWMsDDiIPWL8KXuINNH4KM24OL14JFTAINXoCFTkOHjAKWt8JJ2EKPpQFGEUSUqsICh0IRrEDGTQZXsN3AAAIr0lEQVR4nO2ci18auxLHE90awNplcYk8VETxgXiwtqjHPrTq1Xuq19pzvP//33Imj11cUDJ4buGaz3zbj7qQwOSXZCaTfTBGEARBEARBEARBEARBEARBEARBEARBEARBEARBEARBEARBEARBEARBEATx/4DQ/z1EsCDEln1/MHMw4yEfPjKsBh+llLMe0pOH6CFzJI/RZV8Th7+fsABRLhB58Ul+Ej46hM/yC2ouKA3ey69+OsW5fZw/gMbP9E5/tTXT4ewMpUEI/76d/XJrpsPDOapYCBH0/EKgw+ir4ou8xBQLYTL03vipgbhGBkehQ6OXLhEC3g2mXCDYD/mJeRkbxSUERwTgDo7lracaMLmPKRfmxUHvo8Asp14hd3eYUmHA/nWuEqxfbc4UCNj+HKYcBISrC5EP/dTgXn7GFIRJM+OpBoxdz37FFBPf5TFo8KutmQ6H8t8sDN3+/g95MgFrpkEI/XvPmDtngMXU0QTsmQYwACBzDJzTXIgH6ePaQCPE1RlirzRkF7jk6hWSZ2L/CqGBUEm2pwSBuJen7lEuTuXDBMyZDoLdyK/MHfdvPd1QZdonHkLQC/Ougn/M/piEPdMgFOJIvndrIG7kfyZi0BRQ58/O94V7g+ig5+cGCiBgaXB3wdwa7J9PNmd86Ze9pF4QMgiObg2u8Buq26W93RdY8j9ifBFCaNmX2VNn+0J5gJsK3TpXFN51XtyXS/pno1Acu2aTV/oH7Vyh0KihrAggOB46NTiCrBHxYc0cT1l1F3+SIte/Iv5u7KoNnkv/fmusiPactULQ4FDeOPv4h8Scl1yKOI9b5e3mThW+vuIs/xRFbjSIeXXcqhXe1wCGY7GzvQYi/OaqFobqnOO90+df934iNIh5anizwfmGs8ITJBqMTQe+PdWgy/ma+r3O3VLqHcK5N6NyZ1hOB2Km59xiCNgqaJ8esGXO552GD2M1GBJ8KLcdOK4pL5RqkOPL6cuor70bec4xyIu8gKzRuZ4OePLFmrLtlaWlpnmhubSevNddrK2VbTPgR7dVW9zRb+yuwCxqqhqdpW377t5ibbFrCy+sg8dstlut7oAIMP3jpVyiwULqjmAgbDns1uzPjZoLgTqpcPWNOX0iTL7242OYnqoZqTktzhf0H+1Iu6u3VpI1cxgtms9QFFU15RMD1o3Nu+aj56Fbi/qFuJT58mVeU0JYDaDYpn0D6Vvv5edRGqjzrfLAHWQ2TJtTrCbpBFm0GkBPR9UilOa6GW1oz6o+BBE2G9DkXGONsYKyPdCi1IsbkZIkUI2LoHp9Qwmzkvky5fpSDaBWMuZiXsdooILjKA3y4hZCh3OJFPM4c1w2XTmowZZ1ltvLPFKyRtZ3xmbmJhNYa8BKML+0sHXj5KCDTfFi1tkF+n+qAQy5JAOq8IbLcMVwcBQZAqHONTr9QTSgwbYxd1CDODGqyXlLlzKuYDPKdVg/LhgNYD5ZbwKKMa2B9TkxfztkQarBo+BSH7DqGS5VcFRNTQAn3Efl1zfyJ0aDrOLQxvqwBqW+k9Jd9BvPDtasBnYKMD1l5rUGrefblmqw2tdgA6cBg8wx2+wsgl3Ln8KpQWHg2zpPjgMYpt2yZr2qLa2o4d1OPUlGg52+b1vhyuuBBl1z/I4Xhiz4B+MgvPpzYC68yTDz5zfMXFgesKpkpuyABlX+GGj6wrL+a7nWyZivNdhMJor+nKrWwL4wUoNWX4Mczh/cyrtso9ncIBifCK7dNMOG/ZYZ9cMaxAVNXIgjXWGrYgSpDWmwZWOHQge5+fSFkRq0+yFqGRcXDuXcVabFw0VmD9ynYbZsKxJgtazUSDUw64PVJxdu3VUV7dS4z2jQ7a81d/U6A6lBqT9+Crj1wfXovcIwEGqN5N53jZRZqlRto6Ttr6ujVIOa1gC66FEqp0qbhZMa96rHMhqs60VD0qw2WoOFtF5nYOH2HPezlwOLwExoVGcjMWtlNdjr1n5e70R2ncKTjshpDVbUvDYfVYkaetFoRWjomZuNC4U0AsIcWkJrwHKPPANqQwfWymGm1ZkgEQSQXCJyJtPKimpQeVXPbxPFTGDX/axbW0mascntDLczyKxqs2ukls3/kuwDq8GWDShNjnMHKmfKNnq4yDHkzgjABfB3W6WdLbWDYf0xNKqxs7JX5bHRoKPU2Wadms3tQbgqDJhSw4wbNZhURmTnMQSN6gprqiVzcwwNVA61uMDm44El9bNA7uzq5B/yxD0OAu3xLGo7xYTyhnkhLtt8oRSZt3mhrA53C0mVLfUJSiLVd5HJF5q2ti3s0iBdO+7Gtl7XabbdQ3Feb3Ykr3EXZK0UldFRpc1KhWQotKAzC0XWqVTMzF+oLesFQVKn1kh2IBWlSlyAtdVGxXq1NT2m7Opwr1Ipm79aleEtmmql2s/sakqFjY5768fspbn7+LSH3FN9TE3PxeHdkJGVnn3X3QWqxPBWC0qD0Wmj5Qp5fXuWzvhVJo/aW7+Xf7k1uDh/0Xmm13ANl9ofeRi5jWSZkROwZjqIPAzzM8R5Jp/PuQZMzGHOuXp97p19lx8Q1x94fA0Gw16D4fG1OAHyWhyvr8kS4gMmNHp+bd6bOTUaHAjx0PP1OhRonMoanbmAENfydiIGTR57rS5iVe37Ndvu2/+F+C9kl/jHBLwu1LX7zLlJJDy+hyNkyBschboqK/BSAwFZ43dEOX1Pl/tU06sEe08X5FYHvdC9nHyN5MXZGSbuB6E4lkd+3uPJmNxHtStkJ77e68su5RdUu8w9337GxkPsPd95FRz91OAas6FqnoPh8zMgsBqoZ4F4KcI+MiWGITAj/X0mDCo2mmcD+RkX1IYqoph9RpSX97L8NcY24XdPt1W//n6Cf2bcbG/Wx4fGqWfGjfPsQC8Z49mBXiaNCk/3BAiCIAiCIAiCIAiCIAiCIAiCIAiCIAiCIAiCIAiCIAiCIAiCIAiCIAiCeG38DVZgq+vKqvTyAAAAAElFTkSuQmCC\" width='150'>"
   ]
  },
  {
   "cell_type": "markdown",
   "metadata": {},
   "source": [
    "Details of Datasets from UCI machine learning repositories.\n",
    " Url = https://archive.ics.uci.edu/\n",
    " You have to find the following details:\n",
    "A) Dataset name\n",
    "B) Data type\n",
    "C) Task\n",
    "D) Attribute type\n",
    "E) No of instances\n",
    "F) No of attribute\n",
    "G) Year\n",
    "Note: - from the home page you have to go to the ShowAllDataset page through code."
   ]
  },
  {
   "cell_type": "code",
   "execution_count": null,
   "metadata": {},
   "outputs": [],
   "source": []
  },
  {
   "cell_type": "markdown",
   "metadata": {},
   "source": [
    "<img src=\"https://encrypted-tbn0.gstatic.com/images?q=tbn:ANd9GcQAPO_bLwVPtHaUTpU5w9p8QB0wOuqPxo2OJw&usqp=CAU\" width='500'>"
   ]
  }
 ],
 "metadata": {
  "kernelspec": {
   "display_name": "Python 3",
   "language": "python",
   "name": "python3"
  },
  "language_info": {
   "codemirror_mode": {
    "name": "ipython",
    "version": 3
   },
   "file_extension": ".py",
   "mimetype": "text/x-python",
   "name": "python",
   "nbconvert_exporter": "python",
   "pygments_lexer": "ipython3",
   "version": "3.8.3"
  }
 },
 "nbformat": 4,
 "nbformat_minor": 4
}
